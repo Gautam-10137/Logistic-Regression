{
 "cells": [
  {
   "cell_type": "markdown",
   "id": "13a33e2e",
   "metadata": {},
   "source": [
    "# iris dataset\n",
    "The Iris dataset was used in R.A. Fisher's classic 1936 paper, The Use of Multiple Measurements in Taxonomic Problems, and can also be found on the UCI Machine Learning Repository.\n",
    "\n",
    "It includes three iris species with 50 samples each as well as some properties about each flower. One flower species is linearly separable from the other two, but the other two are not linearly separable from each other.\n",
    "\n",
    "The columns in this dataset are:\n",
    "\n",
    "1. Id\n",
    "2. SepalLengthCm\n",
    "3. SepalWidthCm\n",
    "4. PetalLengthCm\n",
    "5. PetalWidthCm\n",
    "6. Species"
   ]
  },
  {
   "cell_type": "code",
   "execution_count": 1,
   "id": "bbe4638c",
   "metadata": {},
   "outputs": [],
   "source": [
    "import numpy as np\n",
    "import pandas as pd\n",
    "import matplotlib.pyplot as plt\n",
    "import seaborn as sns"
   ]
  },
  {
   "cell_type": "code",
   "execution_count": 2,
   "id": "c2367010",
   "metadata": {},
   "outputs": [],
   "source": [
    "df=pd.read_csv(\"iris.csv\")"
   ]
  },
  {
   "cell_type": "code",
   "execution_count": 3,
   "id": "debd0dbb",
   "metadata": {},
   "outputs": [],
   "source": [
    "df.head()"
   ]
  },
  {
   "cell_type": "code",
   "execution_count": 4,
   "id": "bdff7166",
   "metadata": {},
   "outputs": [],
   "source": [
    "len(df)"
   ]
  },
  {
   "cell_type": "code",
   "execution_count": 5,
   "id": "4b85a2d4",
   "metadata": {},
   "outputs": [],
   "source": [
    "df.info()  # species are in string"
   ]
  },
  {
   "cell_type": "code",
   "execution_count": 6,
   "id": "95965cfd",
   "metadata": {},
   "outputs": [],
   "source": [
    "df.describe()"
   ]
  },
  {
   "cell_type": "code",
   "execution_count": 7,
   "id": "cbe6fb39",
   "metadata": {},
   "outputs": [],
   "source": [
    "df['species'].value_counts()"
   ]
  },
  {
   "cell_type": "markdown",
   "id": "c6e68572",
   "metadata": {},
   "source": [
    "# visualizing features & relationship among them"
   ]
  },
  {
   "cell_type": "code",
   "execution_count": 8,
   "id": "30cd8074",
   "metadata": {},
   "outputs": [],
   "source": [
    "sns.countplot(x='species',data=df)"
   ]
  },
  {
   "cell_type": "code",
   "execution_count": 9,
   "id": "4463b7ca",
   "metadata": {},
   "outputs": [],
   "source": [
    "sns.scatterplot(x='petal_width',y='petal_length',data=df,hue='species') \n",
    "#  setosa is quite separated from both but there are some commons among versicolor and virginica"
   ]
  },
  {
   "cell_type": "code",
   "execution_count": 10,
   "id": "5d13b175",
   "metadata": {},
   "outputs": [],
   "source": [
    "sns.pairplot(data=df,hue='species')"
   ]
  },
  {
   "cell_type": "code",
   "execution_count": 11,
   "id": "985ac95a",
   "metadata": {},
   "outputs": [],
   "source": [
    "#  visualizing correlation\n",
    "sns.heatmap(df.corr(numeric_only=True),annot=True)"
   ]
  },
  {
   "cell_type": "code",
   "execution_count": 12,
   "id": "b8f31286",
   "metadata": {},
   "outputs": [],
   "source": [
    "# developing the model\n",
    "X=df.drop('species',axis=1)"
   ]
  },
  {
   "cell_type": "code",
   "execution_count": 13,
   "id": "09b204f8",
   "metadata": {},
   "outputs": [],
   "source": [
    "y=df['species']"
   ]
  },
  {
   "cell_type": "code",
   "execution_count": 14,
   "id": "1c83f68f",
   "metadata": {},
   "outputs": [],
   "source": [
    "y   # actually we don't need to encode target string values to integers , sklearn is totally okay with these. "
   ]
  },
  {
   "cell_type": "code",
   "execution_count": 15,
   "id": "48927079",
   "metadata": {},
   "outputs": [],
   "source": [
    "#  train - test split\n",
    "from sklearn.model_selection import train_test_split"
   ]
  },
  {
   "cell_type": "code",
   "execution_count": 16,
   "id": "c8e4f933",
   "metadata": {},
   "outputs": [],
   "source": [
    "X_train, X_test, y_train, y_test = train_test_split(X, y, test_size=0.25, random_state=101)"
   ]
  },
  {
   "cell_type": "code",
   "execution_count": 17,
   "id": "beb15cbe",
   "metadata": {},
   "outputs": [],
   "source": [
    "# scaling the data\n",
    "from sklearn.preprocessing import StandardScaler"
   ]
  },
  {
   "cell_type": "code",
   "execution_count": 18,
   "id": "8c5df9b7",
   "metadata": {},
   "outputs": [],
   "source": [
    "scaler=StandardScaler()"
   ]
  },
  {
   "cell_type": "code",
   "execution_count": 19,
   "id": "ae2fe84b",
   "metadata": {},
   "outputs": [],
   "source": [
    "scaler.fit(X_train)"
   ]
  },
  {
   "cell_type": "code",
   "execution_count": 20,
   "id": "0a1907e7",
   "metadata": {},
   "outputs": [],
   "source": [
    "scaled_X_train=scaler.transform(X_train)"
   ]
  },
  {
   "cell_type": "code",
   "execution_count": 21,
   "id": "180e8181",
   "metadata": {},
   "outputs": [],
   "source": [
    "scaled_X_test=scaler.transform(X_test)"
   ]
  },
  {
   "cell_type": "markdown",
   "id": "373a664a",
   "metadata": {},
   "source": [
    "# using grid search to figure out the best hyper parameters & then evaluating its performance"
   ]
  },
  {
   "cell_type": "code",
   "execution_count": 22,
   "id": "73523e32",
   "metadata": {},
   "outputs": [],
   "source": [
    "#  we can choose to perform cross validation all in the model in one simple call Or\n",
    "#  you can keep the things as modular & separating out your model from grid search process"
   ]
  },
  {
   "cell_type": "markdown",
   "id": "08a6396c",
   "metadata": {},
   "source": [
    "# Multiclass classification -> How it works and different from single class classification?\n",
    "It donot check and outputs as 0 or 1 .Actually it takes one vs rest way of figuring out the multiclass problem. At one time it build model to separate  one class from all others then switch to the next class & separate out that class from all the others & so on.     parameter-> multi_class='ovr'"
   ]
  },
  {
   "cell_type": "code",
   "execution_count": 23,
   "id": "a564572e",
   "metadata": {},
   "outputs": [],
   "source": [
    "from sklearn.linear_model import LogisticRegression"
   ]
  },
  {
   "cell_type": "code",
   "execution_count": 24,
   "id": "7aec6877",
   "metadata": {},
   "outputs": [],
   "source": [
    "log_model=LogisticRegression(solver='saga',multi_class='ovr',max_iter=5000)\n",
    "#  in previous models we don't increase the max_iter , since there we donot have enough iterations for gradient descent to find\n",
    "# minimum"
   ]
  },
  {
   "cell_type": "code",
   "execution_count": 25,
   "id": "def15a6e",
   "metadata": {},
   "outputs": [],
   "source": [
    "from sklearn.model_selection import GridSearchCV"
   ]
  },
  {
   "cell_type": "code",
   "execution_count": 26,
   "id": "c84c739d",
   "metadata": {},
   "outputs": [],
   "source": [
    "penalty=['l1','l2','elasticnet']\n",
    "l1_ratio=np.linspace(0,1,20)\n",
    "C=np.logspace(0,1,20)\n",
    "param_grid={'penalty':penalty,'l1_ratio':l1_ratio,'C':C}"
   ]
  },
  {
   "cell_type": "code",
   "execution_count": 27,
   "id": "14962143",
   "metadata": {},
   "outputs": [],
   "source": [
    "grid_model=GridSearchCV(log_model,param_grid)"
   ]
  },
  {
   "cell_type": "code",
   "execution_count": 28,
   "id": "43b99257",
   "metadata": {},
   "outputs": [],
   "source": [
    "import warnings"
   ]
  },
  {
   "cell_type": "code",
   "execution_count": 29,
   "id": "974dacf1",
   "metadata": {},
   "outputs": [],
   "source": [
    "warnings.filterwarnings('ignore')"
   ]
  },
  {
   "cell_type": "code",
   "execution_count": 30,
   "id": "01bfbcdb",
   "metadata": {},
   "outputs": [],
   "source": [
    "grid_model.fit(scaled_X_train,y_train)"
   ]
  },
  {
   "cell_type": "code",
   "execution_count": 31,
   "id": "5a0ad256",
   "metadata": {},
   "outputs": [],
   "source": [
    "grid_model.best_params_"
   ]
  },
  {
   "cell_type": "code",
   "execution_count": 32,
   "id": "20c2da63",
   "metadata": {},
   "outputs": [],
   "source": [
    "from sklearn.metrics import accuracy_score, confusion_matrix,classification_report,ConfusionMatrixDisplay"
   ]
  },
  {
   "cell_type": "code",
   "execution_count": 33,
   "id": "55be74fb",
   "metadata": {},
   "outputs": [],
   "source": [
    "y_pred=grid_model.predict(scaled_X_test)"
   ]
  },
  {
   "cell_type": "code",
   "execution_count": 34,
   "id": "bd8ca3bc",
   "metadata": {},
   "outputs": [],
   "source": [
    "y_pred"
   ]
  },
  {
   "cell_type": "code",
   "execution_count": 35,
   "id": "cabc9fce",
   "metadata": {},
   "outputs": [],
   "source": [
    "accuracy_score(y_test,y_pred)"
   ]
  },
  {
   "cell_type": "code",
   "execution_count": 36,
   "id": "878b24a2",
   "metadata": {},
   "outputs": [],
   "source": [
    "cm=confusion_matrix(y_test,y_pred)"
   ]
  },
  {
   "cell_type": "code",
   "execution_count": 37,
   "id": "20e14f44",
   "metadata": {},
   "outputs": [],
   "source": [
    "cm"
   ]
  },
  {
   "cell_type": "code",
   "execution_count": 38,
   "id": "2aa940d2",
   "metadata": {},
   "outputs": [],
   "source": [
    "disp = ConfusionMatrixDisplay(confusion_matrix=cm,display_labels=grid_model.classes_)\n",
    "disp.plot()"
   ]
  },
  {
   "cell_type": "markdown",
   "id": "4c818838",
   "metadata": {},
   "source": [
    "# we can't draw roc curve automatically for multi-class classification"
   ]
  },
  {
   "cell_type": "code",
   "execution_count": 39,
   "id": "33f55e49",
   "metadata": {},
   "outputs": [],
   "source": [
    "print(classification_report(y_test,y_pred))"
   ]
  },
  {
   "cell_type": "code",
   "execution_count": 40,
   "id": "26fda864",
   "metadata": {},
   "outputs": [],
   "source": [
    "#  copy the function for multiclass ROC curve and call it"
   ]
  },
  {
   "cell_type": "code",
   "execution_count": 41,
   "id": "cd111949",
   "metadata": {},
   "outputs": [],
   "source": [
    "from sklearn.metrics import roc_curve,auc"
   ]
  },
  {
   "cell_type": "code",
   "execution_count": 42,
   "id": "7b398255",
   "metadata": {},
   "outputs": [],
   "source": [
    "def plot_multiclass_roc(clf, X_test, y_test, n_classes, figsize=(5,5)):\n",
    "    y_score = clf.decision_function(X_test)\n",
    "\n",
    "    # structures\n",
    "    fpr = dict()\n",
    "    tpr = dict()\n",
    "    roc_auc = dict()\n",
    "\n",
    "    # calculate dummies once\n",
    "    y_test_dummies = pd.get_dummies(y_test, drop_first=False).values\n",
    "    for i in range(n_classes):\n",
    "        fpr[i], tpr[i], _ = roc_curve(y_test_dummies[:, i], y_score[:, i])\n",
    "        roc_auc[i] = auc(fpr[i], tpr[i])\n",
    "\n",
    "    # roc for each class\n",
    "    fig, ax = plt.subplots(figsize=figsize)\n",
    "    ax.plot([0, 1], [0, 1], 'k--')\n",
    "    ax.set_xlim([0.0, 1.0])\n",
    "    ax.set_ylim([0.0, 1.05])\n",
    "    ax.set_xlabel('False Positive Rate')\n",
    "    ax.set_ylabel('True Positive Rate')\n",
    "    ax.set_title('Receiver operating characteristic example')\n",
    "    for i in range(n_classes):\n",
    "        ax.plot(fpr[i], tpr[i], label='ROC curve (area = %0.2f) for label %i' % (roc_auc[i], i))\n",
    "    ax.legend(loc=\"best\")\n",
    "    ax.grid(alpha=.4)\n",
    "    sns.despine()\n",
    "    plt.show()"
   ]
  },
  {
   "cell_type": "code",
   "execution_count": 43,
   "id": "9457d6eb",
   "metadata": {},
   "outputs": [],
   "source": [
    "plot_multiclass_roc(grid_model,scaled_X_test,y_test,n_classes=3)"
   ]
  },
  {
   "cell_type": "code",
   "execution_count": null,
   "id": "310a609c",
   "metadata": {},
   "outputs": [],
   "source": []
  }
 ],
 "metadata": {
  "kernelspec": {
   "display_name": "Python 3 (ipykernel)",
   "language": "python",
   "name": "python3"
  },
  "language_info": {
   "codemirror_mode": {
    "name": "ipython",
    "version": 3
   },
   "file_extension": ".py",
   "mimetype": "text/x-python",
   "name": "python",
   "nbconvert_exporter": "python",
   "pygments_lexer": "ipython3",
   "version": "3.11.4"
  }
 },
 "nbformat": 4,
 "nbformat_minor": 5
}
